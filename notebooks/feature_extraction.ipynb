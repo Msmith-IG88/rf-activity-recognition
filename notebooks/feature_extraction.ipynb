{
 "cells": [
  {
   "cell_type": "code",
   "execution_count": 1,
   "id": "6ff12521",
   "metadata": {},
   "outputs": [
    {
     "name": "stdout",
     "output_type": "stream",
     "text": [
      "Requirement already satisfied: pandas in c:\\users\\smith\\appdata\\local\\programs\\python\\python311\\lib\\site-packages (2.2.3)\n",
      "Requirement already satisfied: numpy>=1.23.2 in c:\\users\\smith\\appdata\\local\\programs\\python\\python311\\lib\\site-packages (from pandas) (2.1.3)\n",
      "Requirement already satisfied: python-dateutil>=2.8.2 in c:\\users\\smith\\appdata\\local\\programs\\python\\python311\\lib\\site-packages (from pandas) (2.9.0.post0)\n",
      "Requirement already satisfied: pytz>=2020.1 in c:\\users\\smith\\appdata\\local\\programs\\python\\python311\\lib\\site-packages (from pandas) (2025.2)\n",
      "Requirement already satisfied: tzdata>=2022.7 in c:\\users\\smith\\appdata\\local\\programs\\python\\python311\\lib\\site-packages (from pandas) (2025.2)\n",
      "Requirement already satisfied: six>=1.5 in c:\\users\\smith\\appdata\\local\\programs\\python\\python311\\lib\\site-packages (from python-dateutil>=2.8.2->pandas) (1.16.0)\n"
     ]
    },
    {
     "name": "stderr",
     "output_type": "stream",
     "text": [
      "\n",
      "[notice] A new release of pip is available: 24.3.1 -> 25.1.1\n",
      "[notice] To update, run: python.exe -m pip install --upgrade pip\n"
     ]
    },
    {
     "name": "stdout",
     "output_type": "stream",
     "text": [
      "Done generating synthetic spectrograms.\n"
     ]
    }
   ],
   "source": [
    "import sys\n",
    "!{sys.executable} -m pip install pandas\n",
    "\n",
    "import numpy as np\n",
    "import matplotlib.pyplot as plt\n",
    "from scipy.signal import spectrogram\n",
    "import os\n",
    "\n",
    "# Settings\n",
    "activities = {\n",
    "    \"walking\": 1.0,      # Hz\n",
    "    \"jumping_jacks\": 2.5,\n",
    "    \"sitting\": 0.2,\n",
    "    \"waving\": 1.8\n",
    "}\n",
    "duration = 5            # seconds\n",
    "fs = 50                 # Sampling rate (Hz)\n",
    "\n",
    "# Output folder\n",
    "output_dir = \"../data/spectrograms\"\n",
    "os.makedirs(output_dir, exist_ok=True)\n",
    "\n",
    "def generate_signal(freq, noise_level=0.05):\n",
    "    t = np.linspace(0, duration, int(duration * fs))\n",
    "    signal = np.sin(2 * np.pi * freq * t)\n",
    "    signal += noise_level * np.random.randn(len(t))\n",
    "    return t, signal\n",
    "\n",
    "def save_spectrogram(activity, t, signal):\n",
    "    f, ts, Sxx = spectrogram(signal, fs, nperseg=64, noverlap=32)\n",
    "    \n",
    "    # Convert to dB scale and add small value to avoid log(0)\n",
    "    Sxx_dB = 10 * np.log10(Sxx + 1e-10)\n",
    "    \n",
    "    # Plotting\n",
    "    plt.figure(figsize=(4, 3))\n",
    "    plt.pcolormesh(ts, f, Sxx_dB, shading='gouraud', cmap='viridis')\n",
    "    plt.ylim(0, fs // 2)  # Limit to half of sampling rate\n",
    "    plt.axis('off')\n",
    "    \n",
    "    filename = os.path.join(output_dir, f\"{activity}_{np.random.randint(10000)}.png\")\n",
    "    plt.savefig(filename, bbox_inches='tight', pad_inches=0)\n",
    "    plt.close()\n",
    "\n",
    "\n",
    "# Generate and save spectrograms\n",
    "for activity, freq in activities.items():\n",
    "    for _ in range(10):  # Create 10 samples per activity\n",
    "        t, sig = generate_signal(freq)\n",
    "        save_spectrogram(activity, t, sig)\n",
    "\n",
    "print(\"Done generating synthetic spectrograms.\")\n"
   ]
  },
  {
   "cell_type": "code",
   "execution_count": 7,
   "id": "3b8f7afb",
   "metadata": {},
   "outputs": [
    {
     "name": "stdout",
     "output_type": "stream",
     "text": [
      "                 filename    label\n",
      "0  jumping_jacks_1274.png  jumping\n",
      "1  jumping_jacks_1803.png  jumping\n",
      "2  jumping_jacks_1819.png  jumping\n",
      "3  jumping_jacks_2149.png  jumping\n",
      "4  jumping_jacks_2329.png  jumping\n"
     ]
    }
   ],
   "source": [
    "import pandas as pd\n",
    "\n",
    "# Folder containing your spectrograms\n",
    "spectrogram_dir = \"../data/spectrograms\"\n",
    "image_files = os.listdir(spectrogram_dir)\n",
    "\n",
    "# Extract labels from filenames\n",
    "data = []\n",
    "for filename in image_files:\n",
    "    if filename.endswith(\".png\"):\n",
    "        label = filename.split(\"_\")[0]\n",
    "        data.append({\"filename\": filename, \"label\": label})\n",
    "\n",
    "# Save to CSV\n",
    "df = pd.DataFrame(data)\n",
    "df.to_csv(\"../data/labels.csv\", index=False)\n",
    "print(df.head())\n"
   ]
  },
  {
   "cell_type": "code",
   "execution_count": null,
   "id": "44afd33a",
   "metadata": {},
   "outputs": [],
   "source": []
  }
 ],
 "metadata": {
  "kernelspec": {
   "display_name": "Python (myenv)",
   "language": "python",
   "name": "myenv"
  },
  "language_info": {
   "codemirror_mode": {
    "name": "ipython",
    "version": 3
   },
   "file_extension": ".py",
   "mimetype": "text/x-python",
   "name": "python",
   "nbconvert_exporter": "python",
   "pygments_lexer": "ipython3",
   "version": "3.11.8"
  }
 },
 "nbformat": 4,
 "nbformat_minor": 5
}
